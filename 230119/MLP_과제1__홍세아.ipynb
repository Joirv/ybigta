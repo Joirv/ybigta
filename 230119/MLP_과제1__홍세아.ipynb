{
  "nbformat": 4,
  "nbformat_minor": 0,
  "metadata": {
    "colab": {
      "provenance": []
    },
    "kernelspec": {
      "name": "python3",
      "display_name": "Python 3"
    },
    "language_info": {
      "name": "python"
    },
    "accelerator": "GPU",
    "gpuClass": "standard"
  },
  "cells": [
    {
      "cell_type": "code",
      "execution_count": 1,
      "metadata": {
        "colab": {
          "base_uri": "https://localhost:8080/"
        },
        "id": "w75BJHj6qukF",
        "outputId": "161c1907-e477-4e54-c664-74e25c4e4c51"
      },
      "outputs": [
        {
          "output_type": "stream",
          "name": "stdout",
          "text": [
            "Drive already mounted at /content/drive; to attempt to forcibly remount, call drive.mount(\"/content/drive\", force_remount=True).\n"
          ]
        }
      ],
      "source": [
        "from google.colab import drive\n",
        "drive.mount('/content/drive')"
      ]
    },
    {
      "cell_type": "markdown",
      "source": [
        "# Import pacakages\n",
        "---"
      ],
      "metadata": {
        "id": "KenFYB_0nvlO"
      }
    },
    {
      "cell_type": "code",
      "source": [
        "'''\n",
        "import modules\n",
        "  - Basic tool\n",
        "  - DL tool\n",
        "  - OS tool\n",
        "'''\n",
        "# Basic tools\n",
        "import numpy as np\n",
        "import pandas as pd\n",
        "import matplotlib.pyplot as plt\n",
        "\n",
        "# DL tools\n",
        "import torch \n",
        "import torch.nn as nn\n",
        "import torch.nn.functional as F\n",
        "from sklearn.model_selection import train_test_split\n",
        "import tensorflow as tf\n",
        "from tensorflow import keras\n",
        "from tensorflow.keras.utils import to_categorical\n",
        "\n",
        "# OS tool\n",
        "import os"
      ],
      "metadata": {
        "id": "sRTTu9VPiQ2f"
      },
      "execution_count": 2,
      "outputs": []
    },
    {
      "cell_type": "markdown",
      "source": [
        "# Device Setting\n",
        "---"
      ],
      "metadata": {
        "id": "k4xKgk9Xosgh"
      }
    },
    {
      "cell_type": "code",
      "source": [
        "'''\n",
        "  Setting \n",
        "    - Path setting to the current directory\n",
        "    - GPU device setting (device: cuda)\n",
        "'''\n",
        "# Show all columns for the dataframe\n",
        "pd.set_option('display.max_columns', None)\n",
        "\n",
        "# Path\n",
        "my_PATH = \"/content/drive/MyDrive\"\n",
        "# show file list in the current directory\n",
        "!dir\n",
        "\n",
        "'''\n",
        " (!!!!!!!!!!!!!!중요!!!!!!!!!!!!!!!!)\n",
        " GPU 설정을 해줘야 더 효율적인 학습이 가능합니다.\n",
        " \"device: cuda\"로 출력되면 Good!\n",
        " \"device: cpu\"일 경우 현재 코랩에서'런타임 → 런타임 유형 변경 → GPU' 설정을 해줍시다.\n",
        " 코랩이 기본제공하는 GPU는 하루 최대 12시간 사용 가능합니다. 런타임이 연결되는 동안 시간이 차감됩니다.\n",
        " 만약 코랩이 기본제공하는 GPU를 다 썼다면 약 하루를 기다리거나 다른 구글계정을 이용해야합니다. \n",
        "'''\n",
        "# Device setting & configuration\n",
        "# cuda가 available하면 cuda(GPU)로 아니면 CPU 연결\n",
        "if torch.cuda.is_available():\n",
        "    device = torch.device('cuda')\n",
        "else:\n",
        "    device = torch.device('cpu')\n",
        "\n",
        "print('device:', device)"
      ],
      "metadata": {
        "colab": {
          "base_uri": "https://localhost:8080/"
        },
        "id": "FhqicXF8oFDF",
        "outputId": "ffff2289-053b-442e-ba1d-16058f4db368"
      },
      "execution_count": 3,
      "outputs": [
        {
          "output_type": "stream",
          "name": "stdout",
          "text": [
            "drive  sample_data\n",
            "device: cuda\n"
          ]
        }
      ]
    },
    {
      "cell_type": "markdown",
      "source": [
        "# Data Load\n",
        "---"
      ],
      "metadata": {
        "id": "Vek_Cdd6ocmE"
      }
    },
    {
      "cell_type": "code",
      "source": [
        "'''\n",
        "  Load MNIST Data\n",
        "    - Train & &Validation & Test data \n",
        "    - Image and Label\n",
        "    - Min-Max scaling\n",
        "'''\n",
        "# Loading the data\n",
        "(x_train, y_train), (x_test, y_test) = tf.keras.datasets.mnist.load_data()\n",
        "\n",
        "# Min-Max scaling\n",
        "x_train = x_train/255.0\n",
        "x_test = x_test/255.0\n",
        "\n",
        "'''\n",
        " train_test_split은 sklearn으로 import한 모듈입니다.\n",
        " train_test_split을 통해 쉽게 데이터를 분리할 수 있습니다.\n",
        " 이 코드는 train데이터를 0.8 : 0.2로 train과 validation 데이터로 분리하는 코드입니다,\n",
        " print 결과 Train 데이터는 28x28 사이즈의 이미지 데이터가 48,000장 있으며 이미지에 대응하는 label이 48,000개 존재함을 알 수 있습니다.  \n",
        "'''\n",
        "# Split train data into Train/Validation data\n",
        "x_train, x_val, y_train, y_val = train_test_split(x_train, y_train, test_size = 0.2, shuffle=True)\n",
        "\n",
        "# Check data shape\n",
        "print(f\"Train 데이터 크기: {x_train.shape, y_train.shape}\")\n",
        "print(f\"Validation 데이터 크기: {x_val.shape, y_val.shape}\")\n",
        "print(f\"Test 데이터 크기:{x_test.shape, y_test.shape}\")\n"
      ],
      "metadata": {
        "id": "kHTK06rSiY8V",
        "colab": {
          "base_uri": "https://localhost:8080/"
        },
        "outputId": "8b23ce88-53da-4660-818a-ae186ebd56d8"
      },
      "execution_count": 4,
      "outputs": [
        {
          "output_type": "stream",
          "name": "stdout",
          "text": [
            "Train 데이터 크기: ((48000, 28, 28), (48000,))\n",
            "Validation 데이터 크기: ((12000, 28, 28), (12000,))\n",
            "Test 데이터 크기:((10000, 28, 28), (10000,))\n"
          ]
        }
      ]
    },
    {
      "cell_type": "code",
      "source": [
        "# Check\n",
        "fig = plt.figure(figsize=(18,8))\n",
        "ax1 = fig.add_subplot(211)\n",
        "img1 = plt.imshow(x_train[0].reshape(28, 28)).set_cmap('Greys')\n",
        "ax2 = fig.add_subplot(222)\n",
        "img2 = plt.imshow(x_train[1].reshape(28, 28)).set_cmap('Greys')\n",
        "print(f\"첫번째 이미지 라벨: {y_train[0]} \")\n",
        "print(f\"두번째 이미지 라벨: {y_train[1]} \")"
      ],
      "metadata": {
        "id": "SgsWDp8DimYz",
        "colab": {
          "base_uri": "https://localhost:8080/",
          "height": 282
        },
        "outputId": "ee53055d-f87a-4eed-ce54-36819d7866e0"
      },
      "execution_count": 5,
      "outputs": [
        {
          "output_type": "stream",
          "name": "stdout",
          "text": [
            "첫번째 이미지 라벨: 2 \n",
            "두번째 이미지 라벨: 4 \n"
          ]
        },
        {
          "output_type": "display_data",
          "data": {
            "text/plain": [
              "<Figure size 1296x576 with 2 Axes>"
            ],
            "image/png": "[encoded data removed]"
          },
          "metadata": {
            "needs_background": "light"
          }
        }
      ]
    },
    {
      "cell_type": "code",
      "source": [
        "'''\n",
        "  Data Preparation\n",
        "    - No augmentation\n",
        "    - Min-Max scaling (already done at the first)    \n",
        "    - Label(target) -> One hot encoding\n",
        "    \n",
        "    MyDataset은 현재 데이터 set에 다음 속성들을 부여합니다.\n",
        "    Pytorch의 DataLoader를 활용하기 위해 필요합니다.\n",
        "'''\n",
        "\n",
        "class Mydataset(torch.utils.data.Dataset):\n",
        "\n",
        "    # 데이터 전처리 \n",
        "    def __init__(self, dataX_np , dataY_np):\n",
        "        self.data_X = dataX_np.astype(np.float32)\n",
        "        self.data_Y = dataY_np.astype(np.float32) \n",
        "\n",
        "        print(f\"My_dataset __init__ received : {self.data_X.shape}, {self.data_Y.shape} \")\n",
        "\n",
        "    # 인덱스를 입력받아 인덱스에 알맞는 입출력 데이터를 Return\n",
        "    def __getitem__(self, index):\n",
        "        image = self.data_X[index]\n",
        "        label = self.data_Y[index]\n",
        "        # One hot encoding\n",
        "        # 0~9 숫자로 되어있는 라벨을 one hot encoding 형식으로 변환합니다. 이는 이후 MLP의 출력이 10차원이기에 Loss를 계산하기 위해 진행하였습니다.  \n",
        "        label = to_categorical(label, num_classes = 10)\n",
        "\n",
        "        return image, label\n",
        "    \n",
        "    # 총 데이터 개수를 Return\n",
        "    def __len__(self):\n",
        "        return len(self.data_X)"
      ],
      "metadata": {
        "id": "hYk7WJbiint1"
      },
      "execution_count": 6,
      "outputs": []
    },
    {
      "cell_type": "code",
      "source": [
        "'''\n",
        " DataLoader는 데이터를 batch_size에 맞게 나눠주거나 shuffle해 주는 등의 기능을 지원합니다.\n",
        " DataLoader는 데이터를 index로 접근가능하도록 하고 for문에서 사용할 수 있는 iterable 객체로 감싸줍니다.\n",
        "\n",
        " batch_size 변수는 train 데이터의 batch 크기를 결정합니다.\n",
        " batch_size를 1로 할 경우 SGD가 되며 (모든 데이터의 배치크기가 1이므로 배치 = 하나의 데이터 이기 떄문입니다)\n",
        " batch_size를 현재 데이터의 수보다 같거나 크게 할 경우 BGD가 됩니다. (배치하나가 모든 데이터를 포함하기 때문입니다.)\n",
        " 현재 batch_size를 32로 설정하였기에 48000//32 = 1500. 1500개의 배치가 생성되며 배치 한개당 32개의 이미지데이터와 라벨데이터가 존재합니다.\n",
        " drop_last = False로 설정하여 배치로 나눴을 떄 32개가 채워지지 못하는 마지막 배치를 그대로 살리도록 하였습니다.\n",
        " \n",
        " train_loader의 경우 batch_size=32로 설정하여 Mini-batch Gradient Descent를 사용하도록 하였습니다. \n",
        " valid_lodaer와 test_loader의 batch_size를 데이터의 수보다 크게하여 모든 데이터에 대한 Loss와 Accuracy가 구해질 수 있도록 하였습니다.\n",
        "\n",
        " x_train, x_val, x_test 모두 (-1,28*28)로 reshape하였습니다. 즉, 28x28의 크기로 이뤄진 이미지 데이터를 28*28 = 784 차원의 벡터로 Flatten하였습니다. 이미지 데이터를 일자로 폈다고 생각하시면 됩니다.\n",
        " 따라서 MLP 모델에 입력되는 데이터는 784차원의 벡터입니다.\n",
        "'''\n",
        "\n",
        "batch_size = 32\n",
        "train_loader = torch.utils.data.DataLoader(Mydataset(x_train.reshape(-1,28*28), y_train), batch_size=batch_size, shuffle=False, drop_last = False)\n",
        "valid_loader = torch.utils.data.DataLoader(Mydataset(x_val.reshape(-1,28*28), y_val), batch_size = 1000000000, shuffle=False, drop_last = False)\n",
        "test_loader = torch.utils.data.DataLoader(Mydataset(x_test.reshape(-1,28*28), y_test), batch_size = 100000000, shuffle=False, drop_last = False)"
      ],
      "metadata": {
        "id": "D3eHRHz0ixFl",
        "colab": {
          "base_uri": "https://localhost:8080/"
        },
        "outputId": "4d56580a-d279-408d-ebff-0b6f85e95cac"
      },
      "execution_count": 7,
      "outputs": [
        {
          "output_type": "stream",
          "name": "stdout",
          "text": [
            "My_dataset __init__ received : (48000, 784), (48000,) \n",
            "My_dataset __init__ received : (12000, 784), (12000,) \n",
            "My_dataset __init__ received : (10000, 784), (10000,) \n"
          ]
        }
      ]
    },
    {
      "cell_type": "markdown",
      "source": [
        "# MLP Model\n",
        "---"
      ],
      "metadata": {
        "id": "HbBLZjwNRs3a"
      }
    },
    {
      "cell_type": "code",
      "source": [
        "'''\n",
        "  MLP 모델을 정의하는 Class 입니다.\n",
        "\n",
        "  self.fc1 에서 fc1은 layer의 이름이며 fc1을 nn.Linear(input_dimension, output_dimension, bias=False)로 정의 할 수 있습니다.\n",
        "  즉 fc1은 784차원의 input을 wx+b의 Linear 함수를 적용하여 2048차원으로 보냅니다.(input 뉴련 784개, output 뉴런 2048개로 이뤄진 두 layer를 연결합니다.) \n",
        "  bias를 True로 설정할 경우 bias를 추가할 수 있습니다.\n",
        "\n",
        "'''\n",
        "class MLP(nn.Module):\n",
        "    def __init__(self):\n",
        "        super(MLP, self).__init__()\n",
        "        self.fc1 = nn.Linear(784, 512)\n",
        "        self.fc2 = nn.Linear(512, 256)\n",
        "        self.fc3 = nn.Linear(256,10)\n",
        "\n",
        "    def forward(self, x):\n",
        "        x = self.fc1(x)\n",
        "        x = F.relu(x)\n",
        "        x = self.fc2(x)\n",
        "        x = F.relu(x)\n",
        "        x = self.fc3(x)\n",
        "\n",
        "        # Pytorch에서는 Softmax가 CrossEntropy함수안에 내장되어있기에 없어도 됩니다. \n",
        "        # 이후 Loss를 CrossEntropy를 사용할 것이기에 제외하였습니다.\n",
        "        # x = F.log_softmax(x, dim=1)\n",
        "\n",
        "        return x"
      ],
      "metadata": {
        "id": "gxloDOf49T2g"
      },
      "execution_count": 8,
      "outputs": []
    },
    {
      "cell_type": "markdown",
      "source": [
        "# Train\n",
        "---"
      ],
      "metadata": {
        "id": "RadXUxDNR4JZ"
      }
    },
    {
      "cell_type": "code",
      "source": [
        "from statistics import mean \n",
        "import time\n",
        "\n",
        "'''\n",
        " 모델의 학습을 정의하는 함수입니다.\n",
        " model, Lossfunction, Optimizer, Scheduler 등을 입력받습니다.\n",
        " 출력은 train, valdation, test의 loss 리스트로 하였습니다.\n",
        " train함수를 사용하면 입력받은 loss와 optimizer, lr scheduler, num_epoch에 따라 model을 학습시킵니다.\n",
        "'''\n",
        "\n",
        "def train(model, criterion_, optimizer_, scheduler_, num_epochs=40, first_epoch=1):\n",
        "    \n",
        "    train_losses = []\n",
        "    valid_losses = []\n",
        "    test_losses = []\n",
        "\n",
        "    print(\"----------------------------------------------------------------------------\")\n",
        "\n",
        "    start_time = time.time()\n",
        "    for epoch in range(first_epoch, first_epoch + num_epochs):\n",
        "        # train phase\n",
        "        model.train()\n",
        "        \n",
        "        # batch_loss \n",
        "        batch_losses = []\n",
        "\n",
        "        for images, labels in train_loader:\n",
        "            \n",
        "            # Move the training data to the GPU\n",
        "            images = images.to(device)   \n",
        "            labels = labels.to(device)\n",
        "\n",
        "            # clear previous gradient computation\n",
        "            optimizer_.zero_grad()\n",
        "\n",
        "            # forward propagation\n",
        "            outputs = model(images)\n",
        "\n",
        "            # calculate the loss\n",
        "            loss = criterion_.forward(outputs, labels)\n",
        "            batch_losses.append(loss.item())\n",
        "\n",
        "            # backpropagate to compute gradients\n",
        "            loss.backward()\n",
        "\n",
        "            # update model weights\n",
        "            optimizer_.step()\n",
        "\n",
        "        # Train loss를 저장합니다.\n",
        "        train_losses.append(mean(batch_losses))\n",
        "\n",
        "        # validation phase\n",
        "        # Dropout, BatchNormalization과 같은 layer가 동작하지 않도록 합니다.\n",
        "        model.eval()\n",
        "\n",
        "        # We don't need gradients for test, so wrap in \n",
        "        # no_grad to save memory\n",
        "        # 기울기 Gradient를 계산하지 않으며 backpropagation을 하지 않습니다. \n",
        "        with torch.no_grad():\n",
        "            \n",
        "            correct_test = 0\n",
        "\n",
        "            for images, labels in valid_loader:\n",
        "\n",
        "                # Move the training batch to the GPU\n",
        "                images = images.to(device)\n",
        "                labels = labels.to(device)\n",
        "\n",
        "                # forward propagation\n",
        "                outputs = model(images)\n",
        "\n",
        "                # calculate the loss\n",
        "                loss = criterion_(outputs, labels)\n",
        "                valid_losses.append(loss.item())\n",
        "\n",
        "            for images, labels in test_loader:\n",
        "                # Move the training batch to the GPU\n",
        "                images = images.to(device)\n",
        "                labels = labels.to(device)\n",
        "\n",
        "                # forward propagation\n",
        "                outputs = model(images)\n",
        "\n",
        "                # calculate the loss\n",
        "                loss = criterion_(outputs, labels)\n",
        "                test_losses.append(loss.item())\n",
        "\n",
        "                # Check Accuracy\n",
        "                # preds 는 output 중에서 가장 높은 값의 index를 가집니다. \n",
        "                _, preds = torch.max(outputs, 1)\n",
        "\n",
        "                # label이 현재 one hot encoding 형태로 되어있기에 preds를 index로 받아 1인지 확인합니다. \n",
        "                # ex) 숫자 2 : label = [0,0,1,0,0,...,0] , label[i][preds] == 1 -> 정답\n",
        "                for i in range(len(preds)):\n",
        "                  if labels[i][preds[i]] == 1:\n",
        "                    correct_test +=1\n",
        "        \n",
        "        # 원하는 Epoch마다 결과 출력 \n",
        "        if (epoch) % 1== 0 :\n",
        "            curr_time = round(time.time()-start_time)\n",
        "            train_rec = round(train_losses[-1],5)\n",
        "            valid_rec = round(valid_losses[-1],5)\n",
        "            test_rec = round(test_losses[-1],5)\n",
        "            test_acc = round(100*(correct_test)/len(labels),3)\n",
        "            print('Epoch', epoch, ' / ',num_epochs)\n",
        "            print(f\"\\t [Train loss : {train_rec}]  [Validation loss : {valid_rec}] [Test loss : {test_rec}], [Test Accuracy : {test_acc}%],[curr LR = {scheduler_.get_last_lr()}],[elapsed_time = {curr_time}sec] \")\n",
        "\n",
        "        # Learning rate Scheduling\n",
        "        # Scheduler에 따라 learning rate를 조절합니다. \n",
        "        scheduler_.step()\n",
        "        \n",
        "      \n",
        "    print(f\"\\nTrain Ended, total_elapsed_time = {round(time.time()-start_time)} \")\n",
        "    print(\"--------------------------------------------------------------------\")\n",
        "    \n",
        "    # Loss 값 반환\n",
        "    return train_losses, valid_losses, test_losses"
      ],
      "metadata": {
        "id": "ZgoDO9pgk0eu"
      },
      "execution_count": 9,
      "outputs": []
    },
    {
      "cell_type": "markdown",
      "source": [
        "## Setting"
      ],
      "metadata": {
        "id": "Vn80AsOCYGMe"
      }
    },
    {
      "cell_type": "code",
      "source": [
        "# Moodel Setting \n",
        "model = MLP()\n",
        "model.to(device)\n",
        "\n",
        "# Optimizer\n",
        "# Optimzer와 Learning rate를 설정해줍니다.\n",
        "optimizer = torch.optim.Adam(model.parameters(), lr=0.0001)\n",
        "\n",
        "# Loss Function\n",
        "criterion = nn.CrossEntropyLoss()\n",
        "\n",
        "# Learning rate scheduler\n",
        "# epoch가 10번 돌때마다 learning rate를 gamma만큼 곱해 사용합니다. ex) 0.01 -> 0.005\n",
        "scheduler = torch.optim.lr_scheduler.StepLR(optimizer, step_size=5, gamma=0.5)"
      ],
      "metadata": {
        "id": "9G2STZq9YDYk"
      },
      "execution_count": 30,
      "outputs": []
    },
    {
      "cell_type": "markdown",
      "source": [
        "## Training"
      ],
      "metadata": {
        "id": "7CZOAkyaYMx8"
      }
    },
    {
      "cell_type": "code",
      "source": [
        "train_losses, valid_losses, test_losses = train(model, criterion_ = criterion, optimizer_ = optimizer, scheduler_ = scheduler, num_epochs=40)"
      ],
      "metadata": {
        "colab": {
          "base_uri": "https://localhost:8080/"
        },
        "id": "7O8pE28EcZ2j",
        "outputId": "f2aef750-7c27-4621-c6bb-636a762b4562"
      },
      "execution_count": 31,
      "outputs": [
        {
          "output_type": "stream",
          "name": "stdout",
          "text": [
            "----------------------------------------------------------------------------\n",
            "Epoch 1  /  40\n",
            "\t [Train loss : 0.49878]  [Validation loss : 0.2708] [Test loss : 0.25275], [Test Accuracy : 92.63%],[curr LR = [0.0001]],[elapsed_time = 16sec] \n",
            "Epoch 2  /  40\n",
            "\t [Train loss : 0.2212]  [Validation loss : 0.20428] [Test loss : 0.18879], [Test Accuracy : 94.52%],[curr LR = [0.0001]],[elapsed_time = 28sec] \n",
            "Epoch 3  /  40\n",
            "\t [Train loss : 0.1676]  [Validation loss : 0.16795] [Test loss : 0.1531], [Test Accuracy : 95.65%],[curr LR = [0.0001]],[elapsed_time = 48sec] \n",
            "Epoch 4  /  40\n",
            "\t [Train loss : 0.13317]  [Validation loss : 0.14378] [Test loss : 0.12935], [Test Accuracy : 96.29%],[curr LR = [0.0001]],[elapsed_time = 63sec] \n",
            "Epoch 5  /  40\n",
            "\t [Train loss : 0.10806]  [Validation loss : 0.12697] [Test loss : 0.11312], [Test Accuracy : 96.61%],[curr LR = [0.0001]],[elapsed_time = 84sec] \n",
            "Epoch 6  /  40\n",
            "\t [Train loss : 0.08658]  [Validation loss : 0.11671] [Test loss : 0.10378], [Test Accuracy : 96.88%],[curr LR = [5e-05]],[elapsed_time = 100sec] \n",
            "Epoch 7  /  40\n",
            "\t [Train loss : 0.07775]  [Validation loss : 0.11068] [Test loss : 0.09813], [Test Accuracy : 96.97%],[curr LR = [5e-05]],[elapsed_time = 112sec] \n",
            "Epoch 8  /  40\n",
            "\t [Train loss : 0.07001]  [Validation loss : 0.10575] [Test loss : 0.09342], [Test Accuracy : 97.04%],[curr LR = [5e-05]],[elapsed_time = 128sec] \n",
            "Epoch 9  /  40\n",
            "\t [Train loss : 0.06321]  [Validation loss : 0.10174] [Test loss : 0.08959], [Test Accuracy : 97.23%],[curr LR = [5e-05]],[elapsed_time = 144sec] \n",
            "Epoch 10  /  40\n",
            "\t [Train loss : 0.05714]  [Validation loss : 0.09845] [Test loss : 0.0864], [Test Accuracy : 97.31%],[curr LR = [5e-05]],[elapsed_time = 160sec] \n",
            "Epoch 11  /  40\n",
            "\t [Train loss : 0.05011]  [Validation loss : 0.09558] [Test loss : 0.08251], [Test Accuracy : 97.46%],[curr LR = [2.5e-05]],[elapsed_time = 180sec] \n",
            "Epoch 12  /  40\n",
            "\t [Train loss : 0.04733]  [Validation loss : 0.09438] [Test loss : 0.08135], [Test Accuracy : 97.53%],[curr LR = [2.5e-05]],[elapsed_time = 192sec] \n",
            "Epoch 13  /  40\n",
            "\t [Train loss : 0.04479]  [Validation loss : 0.09329] [Test loss : 0.08028], [Test Accuracy : 97.58%],[curr LR = [2.5e-05]],[elapsed_time = 208sec] \n",
            "Epoch 14  /  40\n",
            "\t [Train loss : 0.0424]  [Validation loss : 0.09226] [Test loss : 0.07925], [Test Accuracy : 97.57%],[curr LR = [2.5e-05]],[elapsed_time = 227sec] \n",
            "Epoch 15  /  40\n",
            "\t [Train loss : 0.04012]  [Validation loss : 0.09142] [Test loss : 0.07841], [Test Accuracy : 97.58%],[curr LR = [2.5e-05]],[elapsed_time = 243sec] \n",
            "Epoch 16  /  40\n",
            "\t [Train loss : 0.03716]  [Validation loss : 0.09086] [Test loss : 0.07687], [Test Accuracy : 97.54%],[curr LR = [1.25e-05]],[elapsed_time = 259sec] \n",
            "Epoch 17  /  40\n",
            "\t [Train loss : 0.03597]  [Validation loss : 0.09043] [Test loss : 0.07648], [Test Accuracy : 97.59%],[curr LR = [1.25e-05]],[elapsed_time = 279sec] \n",
            "Epoch 18  /  40\n",
            "\t [Train loss : 0.0349]  [Validation loss : 0.09006] [Test loss : 0.07611], [Test Accuracy : 97.6%],[curr LR = [1.25e-05]],[elapsed_time = 295sec] \n",
            "Epoch 19  /  40\n",
            "\t [Train loss : 0.03386]  [Validation loss : 0.08971] [Test loss : 0.07579], [Test Accuracy : 97.62%],[curr LR = [1.25e-05]],[elapsed_time = 312sec] \n",
            "Epoch 20  /  40\n",
            "\t [Train loss : 0.03286]  [Validation loss : 0.08938] [Test loss : 0.07548], [Test Accuracy : 97.62%],[curr LR = [1.25e-05]],[elapsed_time = 328sec] \n",
            "Epoch 21  /  40\n",
            "\t [Train loss : 0.0315]  [Validation loss : 0.08867] [Test loss : 0.07463], [Test Accuracy : 97.63%],[curr LR = [6.25e-06]],[elapsed_time = 344sec] \n",
            "Epoch 22  /  40\n",
            "\t [Train loss : 0.03094]  [Validation loss : 0.0885] [Test loss : 0.07448], [Test Accuracy : 97.63%],[curr LR = [6.25e-06]],[elapsed_time = 364sec] \n",
            "Epoch 23  /  40\n",
            "\t [Train loss : 0.03045]  [Validation loss : 0.08835] [Test loss : 0.07434], [Test Accuracy : 97.62%],[curr LR = [6.25e-06]],[elapsed_time = 379sec] \n",
            "Epoch 24  /  40\n",
            "\t [Train loss : 0.02997]  [Validation loss : 0.0882] [Test loss : 0.07421], [Test Accuracy : 97.64%],[curr LR = [6.25e-06]],[elapsed_time = 395sec] \n",
            "Epoch 25  /  40\n",
            "\t [Train loss : 0.0295]  [Validation loss : 0.08807] [Test loss : 0.07407], [Test Accuracy : 97.66%],[curr LR = [6.25e-06]],[elapsed_time = 415sec] \n",
            "Epoch 26  /  40\n",
            "\t [Train loss : 0.02886]  [Validation loss : 0.08738] [Test loss : 0.07347], [Test Accuracy : 97.69%],[curr LR = [3.125e-06]],[elapsed_time = 431sec] \n",
            "Epoch 27  /  40\n",
            "\t [Train loss : 0.02857]  [Validation loss : 0.08731] [Test loss : 0.07341], [Test Accuracy : 97.68%],[curr LR = [3.125e-06]],[elapsed_time = 447sec] \n",
            "Epoch 28  /  40\n",
            "\t [Train loss : 0.02834]  [Validation loss : 0.08725] [Test loss : 0.07335], [Test Accuracy : 97.67%],[curr LR = [3.125e-06]],[elapsed_time = 463sec] \n",
            "Epoch 29  /  40\n",
            "\t [Train loss : 0.0281]  [Validation loss : 0.08719] [Test loss : 0.0733], [Test Accuracy : 97.67%],[curr LR = [3.125e-06]],[elapsed_time = 479sec] \n",
            "Epoch 30  /  40\n",
            "\t [Train loss : 0.02787]  [Validation loss : 0.08713] [Test loss : 0.07324], [Test Accuracy : 97.68%],[curr LR = [3.125e-06]],[elapsed_time = 499sec] \n",
            "Epoch 31  /  40\n",
            "\t [Train loss : 0.02756]  [Validation loss : 0.08675] [Test loss : 0.07297], [Test Accuracy : 97.65%],[curr LR = [1.5625e-06]],[elapsed_time = 515sec] \n",
            "Epoch 32  /  40\n",
            "\t [Train loss : 0.0274]  [Validation loss : 0.08671] [Test loss : 0.07295], [Test Accuracy : 97.65%],[curr LR = [1.5625e-06]],[elapsed_time = 531sec] \n",
            "Epoch 33  /  40\n",
            "\t [Train loss : 0.02729]  [Validation loss : 0.08669] [Test loss : 0.07292], [Test Accuracy : 97.65%],[curr LR = [1.5625e-06]],[elapsed_time = 547sec] \n",
            "Epoch 34  /  40\n",
            "\t [Train loss : 0.02717]  [Validation loss : 0.08666] [Test loss : 0.0729], [Test Accuracy : 97.65%],[curr LR = [1.5625e-06]],[elapsed_time = 563sec] \n",
            "Epoch 35  /  40\n",
            "\t [Train loss : 0.02706]  [Validation loss : 0.08663] [Test loss : 0.07288], [Test Accuracy : 97.65%],[curr LR = [1.5625e-06]],[elapsed_time = 583sec] \n",
            "Epoch 36  /  40\n",
            "\t [Train loss : 0.02689]  [Validation loss : 0.0865] [Test loss : 0.07282], [Test Accuracy : 97.72%],[curr LR = [7.8125e-07]],[elapsed_time = 599sec] \n",
            "Epoch 37  /  40\n",
            "\t [Train loss : 0.02682]  [Validation loss : 0.08648] [Test loss : 0.07281], [Test Accuracy : 97.72%],[curr LR = [7.8125e-07]],[elapsed_time = 616sec] \n",
            "Epoch 38  /  40\n",
            "\t [Train loss : 0.02676]  [Validation loss : 0.08646] [Test loss : 0.0728], [Test Accuracy : 97.72%],[curr LR = [7.8125e-07]],[elapsed_time = 631sec] \n",
            "Epoch 39  /  40\n",
            "\t [Train loss : 0.0267]  [Validation loss : 0.08645] [Test loss : 0.07279], [Test Accuracy : 97.72%],[curr LR = [7.8125e-07]],[elapsed_time = 647sec] \n",
            "Epoch 40  /  40\n",
            "\t [Train loss : 0.02664]  [Validation loss : 0.08644] [Test loss : 0.07278], [Test Accuracy : 97.73%],[curr LR = [7.8125e-07]],[elapsed_time = 667sec] \n",
            "\n",
            "Train Ended, total_elapsed_time = 667 \n",
            "--------------------------------------------------------------------\n"
          ]
        }
      ]
    },
    {
      "cell_type": "markdown",
      "source": [
        "# Plot Result\n",
        "---"
      ],
      "metadata": {
        "id": "Cs8DOtIaX7_K"
      }
    },
    {
      "cell_type": "code",
      "source": [
        "def plot_result(train_loss, val_loss, test_loss):\n",
        "  plt.figure(figsize=(20,8))\n",
        "  plt.plot(train_loss, label='Train Loss', linewidth='3')\n",
        "  plt.plot(val_loss, label='Validation Loss', linewidth='3')\n",
        "  plt.plot(test_loss, label='Test Loss', linewidth='3')\n",
        "  plt.grid()\n",
        "  plt.rc('xtick', labelsize=12)\n",
        "  plt.rc('ytick', labelsize=12)  \n",
        "  plt.legend()\n",
        "  plt.rc('legend', fontsize=15)  \n",
        "  plt.xlabel('Number of Eopch')\n",
        "  plt.ylabel('Cross Entropy Loss')\n",
        "  plt.rc('axes', labelsize=17)  \n"
      ],
      "metadata": {
        "id": "dzQ0Fcek5lRt"
      },
      "execution_count": 32,
      "outputs": []
    },
    {
      "cell_type": "markdown",
      "source": [
        "#### Overfitting graph"
      ],
      "metadata": {
        "id": "IFOGXZ5qhE3V"
      }
    },
    {
      "cell_type": "code",
      "source": [
        "plot_result(train_losses, valid_losses, test_losses)"
      ],
      "metadata": {
        "colab": {
          "base_uri": "https://localhost:8080/",
          "height": 508
        },
        "id": "Tkh-ihpJge0M",
        "outputId": "d6085d70-bdc1-4a9f-c994-a9dce4228256"
      },
      "execution_count": 33,
      "outputs": [
        {
          "output_type": "display_data",
          "data": {
            "text/plain": [
              "<Figure size 1440x576 with 1 Axes>"
            ],
            "image/png": "[encoded data removed]"
          },
          "metadata": {
            "needs_background": "light"
          }
        }
      ]
    },
    {
      "cell_type": "code",
      "source": [],
      "metadata": {
        "id": "MJItDpVfveBf"
      },
      "execution_count": null,
      "outputs": []
    }
  ]
}