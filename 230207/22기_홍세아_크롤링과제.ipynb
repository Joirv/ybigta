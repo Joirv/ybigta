{
 "cells": [
  {
   "cell_type": "code",
   "execution_count": 1,
   "metadata": {},
   "outputs": [],
   "source": [
    "import selenium\n",
    "from selenium import webdriver\n",
    "from webdriver_manager.chrome import ChromeDriverManager\n",
    "from selenium.webdriver.common.by import By\n",
    "from selenium.webdriver.common.keys import Keys\n",
    "from bs4 import BeautifulSoup\n",
    "import pandas as pd"
   ]
  },
  {
   "cell_type": "markdown",
   "metadata": {},
   "source": [
    "# 1. 학사일정 가져오기"
   ]
  },
  {
   "cell_type": "code",
   "execution_count": 2,
   "metadata": {},
   "outputs": [],
   "source": [
    "driver = webdriver.Chrome(ChromeDriverManager().install())\n",
    "\n",
    "# 해당 URL로 이동\n",
    "driver.get('https://www.yonsei.ac.kr/sc/') "
   ]
  },
  {
   "cell_type": "code",
   "execution_count": 3,
   "metadata": {},
   "outputs": [],
   "source": [
    "driver.find_element(By.XPATH,'//*[@id=\"header\"]/div[3]/a/span').click()"
   ]
  },
  {
   "cell_type": "code",
   "execution_count": 4,
   "metadata": {},
   "outputs": [],
   "source": [
    "# 학사지원 클릭\n",
    "driver.find_element(By.XPATH, '//*[@id=\"mgnb\"]/ul/li[5]/a').click()"
   ]
  },
  {
   "cell_type": "code",
   "execution_count": 5,
   "metadata": {},
   "outputs": [],
   "source": [
    "# 학사\n",
    "driver.find_element(By.XPATH, '//*[@id=\"mgnb\"]/ul/li[5]/div/ul/li[1]/a').click()"
   ]
  },
  {
   "cell_type": "code",
   "execution_count": 6,
   "metadata": {},
   "outputs": [],
   "source": [
    "# 학사일정 클릭\n",
    "driver.find_element(By.XPATH, '//*[@id=\"mgnb\"]/ul/li[5]/div/ul/li[1]/ul/li[1]/a').click()"
   ]
  },
  {
   "cell_type": "code",
   "execution_count": 7,
   "metadata": {},
   "outputs": [],
   "source": [
    "html = driver.page_source\n",
    "soup = BeautifulSoup(html, 'html.parser')"
   ]
  },
  {
   "cell_type": "code",
   "execution_count": 8,
   "metadata": {},
   "outputs": [],
   "source": [
    "driver.close()"
   ]
  },
  {
   "cell_type": "code",
   "execution_count": 9,
   "metadata": {},
   "outputs": [],
   "source": [
    "table = soup.find(class_='tblH')"
   ]
  },
  {
   "cell_type": "code",
   "execution_count": 10,
   "metadata": {},
   "outputs": [],
   "source": [
    "feb = table.text.split('FEB')[1].split('03 MAR')[0].replace('\\t','')"
   ]
  },
  {
   "cell_type": "code",
   "execution_count": 11,
   "metadata": {},
   "outputs": [],
   "source": [
    "mar = table.text.split('FEB')[1].split('03 MAR')[1].split('04 APR')[0].replace('\\t','')"
   ]
  },
  {
   "cell_type": "code",
   "execution_count": 12,
   "metadata": {},
   "outputs": [],
   "source": [
    "febList = list(filter(None, feb.split('\\n')))\n",
    "marList = list(filter(None, mar.split('\\n')))"
   ]
  },
  {
   "cell_type": "code",
   "execution_count": 13,
   "metadata": {},
   "outputs": [],
   "source": [
    "month = []\n",
    "day = []\n",
    "event = []\n",
    "\n",
    "# Febuaray\n",
    "for i in range(int(len(febList)/2)):\n",
    "    month.append('Feb')\n",
    "    day.append(febList[i*2].strip())\n",
    "    event.append(febList[2*i+1].replace(u'\\xa0',u' ').strip())\n",
    "    \n",
    "# March\n",
    "for i in range(int(len(marList)/2)):\n",
    "    month.append('Mar')\n",
    "    day.append(marList[i*2].strip())\n",
    "    event.append(marList[2*i+1].replace(u'\\xa0',u' ').strip())"
   ]
  },
  {
   "cell_type": "code",
   "execution_count": 14,
   "metadata": {},
   "outputs": [],
   "source": [
    "calendar = {\n",
    "    'month' : month,\n",
    "    'day' : day,\n",
    "    'evnet' : event\n",
    "}\n",
    "calendar = pd.DataFrame(calendar)"
   ]
  },
  {
   "cell_type": "code",
   "execution_count": 15,
   "metadata": {},
   "outputs": [
    {
     "data": {
      "text/html": [
       "<div>\n",
       "<style scoped>\n",
       "    .dataframe tbody tr th:only-of-type {\n",
       "        vertical-align: middle;\n",
       "    }\n",
       "\n",
       "    .dataframe tbody tr th {\n",
       "        vertical-align: top;\n",
       "    }\n",
       "\n",
       "    .dataframe thead th {\n",
       "        text-align: right;\n",
       "    }\n",
       "</style>\n",
       "<table border=\"1\" class=\"dataframe\">\n",
       "  <thead>\n",
       "    <tr style=\"text-align: right;\">\n",
       "      <th></th>\n",
       "      <th>month</th>\n",
       "      <th>day</th>\n",
       "      <th>evnet</th>\n",
       "    </tr>\n",
       "  </thead>\n",
       "  <tbody>\n",
       "    <tr>\n",
       "      <th>0</th>\n",
       "      <td>Feb</td>\n",
       "      <td>1(수)</td>\n",
       "      <td>휴 · 복학 접수 시작</td>\n",
       "    </tr>\n",
       "    <tr>\n",
       "      <th>1</th>\n",
       "      <td>Feb</td>\n",
       "      <td>13(월)~17(금)</td>\n",
       "      <td>2023-1학기 수강신청</td>\n",
       "    </tr>\n",
       "    <tr>\n",
       "      <th>2</th>\n",
       "      <td>Feb</td>\n",
       "      <td>17(금)~23(목)</td>\n",
       "      <td>2023-1학기 등록</td>\n",
       "    </tr>\n",
       "    <tr>\n",
       "      <th>3</th>\n",
       "      <td>Feb</td>\n",
       "      <td>22(수)</td>\n",
       "      <td>복학 접수 마감</td>\n",
       "    </tr>\n",
       "    <tr>\n",
       "      <th>4</th>\n",
       "      <td>Feb</td>\n",
       "      <td>26(일)</td>\n",
       "      <td>졸업예배</td>\n",
       "    </tr>\n",
       "    <tr>\n",
       "      <th>5</th>\n",
       "      <td>Feb</td>\n",
       "      <td>27(월)</td>\n",
       "      <td>학위수여식</td>\n",
       "    </tr>\n",
       "    <tr>\n",
       "      <th>6</th>\n",
       "      <td>Mar</td>\n",
       "      <td>1(수)</td>\n",
       "      <td>삼일절</td>\n",
       "    </tr>\n",
       "    <tr>\n",
       "      <th>7</th>\n",
       "      <td>Mar</td>\n",
       "      <td>2(목)</td>\n",
       "      <td>개강 / 교무위원회</td>\n",
       "    </tr>\n",
       "    <tr>\n",
       "      <th>8</th>\n",
       "      <td>Mar</td>\n",
       "      <td>6(월)~8(수)</td>\n",
       "      <td>수강신청 확인 및 변경</td>\n",
       "    </tr>\n",
       "    <tr>\n",
       "      <th>9</th>\n",
       "      <td>Mar</td>\n",
       "      <td>10(금)~13(월)</td>\n",
       "      <td>2023-1학기 추가등록</td>\n",
       "    </tr>\n",
       "    <tr>\n",
       "      <th>10</th>\n",
       "      <td>Mar</td>\n",
       "      <td>13(월)~17(금)</td>\n",
       "      <td>조기졸업 신청</td>\n",
       "    </tr>\n",
       "    <tr>\n",
       "      <th>11</th>\n",
       "      <td>Mar</td>\n",
       "      <td>15(수)</td>\n",
       "      <td>미등록자 일반 휴학 접수 마감 / 등록금 전액반환 마감</td>\n",
       "    </tr>\n",
       "  </tbody>\n",
       "</table>\n",
       "</div>"
      ],
      "text/plain": [
       "   month          day                           evnet\n",
       "0    Feb         1(수)                    휴 · 복학 접수 시작\n",
       "1    Feb  13(월)~17(금)                   2023-1학기 수강신청\n",
       "2    Feb  17(금)~23(목)                     2023-1학기 등록\n",
       "3    Feb        22(수)                        복학 접수 마감\n",
       "4    Feb        26(일)                            졸업예배\n",
       "5    Feb        27(월)                           학위수여식\n",
       "6    Mar         1(수)                             삼일절\n",
       "7    Mar         2(목)                      개강 / 교무위원회\n",
       "8    Mar    6(월)~8(수)                    수강신청 확인 및 변경\n",
       "9    Mar  10(금)~13(월)                   2023-1학기 추가등록\n",
       "10   Mar  13(월)~17(금)                         조기졸업 신청\n",
       "11   Mar        15(수)  미등록자 일반 휴학 접수 마감 / 등록금 전액반환 마감"
      ]
     },
     "execution_count": 15,
     "metadata": {},
     "output_type": "execute_result"
    }
   ],
   "source": [
    "calendar"
   ]
  },
  {
   "cell_type": "markdown",
   "metadata": {
    "id": "RDtv2NMDds9e"
   },
   "source": [
    "# 2. 고려대학교 썸네일 이미지 가져오기"
   ]
  },
  {
   "cell_type": "code",
   "execution_count": 16,
   "metadata": {},
   "outputs": [],
   "source": [
    "driver = webdriver.Chrome(ChromeDriverManager().install())\n",
    "\n",
    "# 해당 URL로 이동\n",
    "driver.get('https://www.naver.com/') "
   ]
  },
  {
   "cell_type": "code",
   "execution_count": 17,
   "metadata": {
    "id": "QJq8eKquds9e"
   },
   "outputs": [],
   "source": [
    "# XPATH를 이용하여 검색창에 해당하는 요소 찾기\n",
    "search = driver.find_element(By.XPATH, '//*[@id=\"query\"]')"
   ]
  },
  {
   "cell_type": "code",
   "execution_count": 18,
   "metadata": {
    "id": "81K2vzrdds9e"
   },
   "outputs": [],
   "source": [
    "# 검색어 입력\n",
    "search.send_keys('고려대학교')"
   ]
  },
  {
   "cell_type": "code",
   "execution_count": 19,
   "metadata": {
    "id": "5Py7NVC1ds9e"
   },
   "outputs": [],
   "source": [
    "# Keys.RETURN = Enter 입력\n",
    "search.send_keys(Keys.RETURN)"
   ]
  },
  {
   "cell_type": "code",
   "execution_count": 20,
   "metadata": {
    "id": "XLYpj_gSds9e"
   },
   "outputs": [],
   "source": [
    "img = driver.find_element(By.XPATH, '//*[@id=\"main_pack\"]/div[2]/div[2]/div[1]/div/div[2]/a/img')\n",
    "img_url = img.get_attribute('src')"
   ]
  },
  {
   "cell_type": "code",
   "execution_count": 21,
   "metadata": {
    "id": "XhJmOuGFds9e"
   },
   "outputs": [
    {
     "name": "stdout",
     "output_type": "stream",
     "text": [
      "https://search.pstatic.net/common?type=f&size=174x174&quality=100&direct=true&src=https%3A%2F%2Fldb-phinf.pstatic.net%2F20150831_102%2F1441001184354BvGxq_JPEG%2F11591498_0.jpg\n"
     ]
    }
   ],
   "source": [
    "print(img_url)"
   ]
  },
  {
   "cell_type": "code",
   "execution_count": 22,
   "metadata": {
    "id": "knePBUvjV8G7"
   },
   "outputs": [],
   "source": [
    "# 브라우저 닫기\n",
    "driver.close()"
   ]
  }
 ],
 "metadata": {
  "colab": {
   "provenance": []
  },
  "kernelspec": {
   "display_name": "Python [conda env:tf2] *",
   "language": "python",
   "name": "conda-env-tf2-py"
  },
  "language_info": {
   "codemirror_mode": {
    "name": "ipython",
    "version": 3
   },
   "file_extension": ".py",
   "mimetype": "text/x-python",
   "name": "python",
   "nbconvert_exporter": "python",
   "pygments_lexer": "ipython3",
   "version": "3.8.15"
  }
 },
 "nbformat": 4,
 "nbformat_minor": 1
}
